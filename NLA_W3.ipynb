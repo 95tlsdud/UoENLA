{
 "cells": [
  {
   "cell_type": "markdown",
   "metadata": {},
   "source": [
    "# MATH10098: Numerical Linear Algebra - Workshop week 3\n",
    "\n",
    "Please note that on Notable, computational times might be a bit erratic. For comparing computational times, it is best to run the notebook on a desktop or laptop using e.g. Anaconda.\n",
    "\n",
    "### Exercise 1: Errors and Residuals (Easy)\n",
    "\n",
    "In the code cell below, set a variable `n` with value $n=50$. Use `np.random.rand` to define `A` to be a random matrix $A$ of dimension $n$. Then:\n",
    "\n",
    "(i) Create a variable `xsol` to represent a vector $x^{\\ast} \\in \\mathbb{R}^n$, all of whose entries are $1$.\n",
    "\n",
    "(ii) Compute `b = A @ xsol` to represent the vector $b=Ax^{\\ast}$.\n",
    "\n",
    "(iii) Use `np.linalg.solve` to compute `x`, the *computed* solution of $Ax=b$.\n",
    "\n",
    "(iv) Compute the $1$, $2$, and $\\infty$ norms of the residual vector `r = A @ x - b`. This can be done using the function `np.linalg.norm`. Note that `np.inf` is used to denote $\\infty$.\n",
    "\n",
    "(v) Compute the $1$, $2$, and $\\infty$ norms of the solution error `e = x - xsol`.\n",
    "\n",
    "(vi) Both the residual `r` and the error `e` measure how close the computed solution `x` is to the exact solution `xsol`. Report the norms of the residual and solution error. How do the norms of `r` and `e` compare?\n",
    "\n",
    "Now repeat parts (i-vi) with `n = 50` and `A = hilbert(n)` (using the function `hilbert` from SciPy's `scipy.linalg` module), where `A` represents the Hilbert matrix $A$ of dimension $n$. Do you notice a difference?"
   ]
  },
  {
   "cell_type": "code",
   "execution_count": 6,
   "metadata": {},
   "outputs": [
    {
     "name": "stdout",
     "output_type": "stream",
     "text": [
      "2.0961010704922955e-13 1.4430678874077785e-12\n",
      "3.8755530747763045e-14 2.470016939383297e-13\n",
      "1.4210854715202004e-14 8.959499808725013e-14\n"
     ]
    }
   ],
   "source": [
    "import numpy as np\n",
    "from scipy.linalg import hilbert\n",
    "\n",
    "n = 50\n",
    "A = np.random.rand(n,n)\n",
    "xsol = np.ones([50,1])\n",
    "b = A @ xsol\n",
    "x = np.linalg.solve(A,b)\n",
    "r = A @ x - b\n",
    "nr1 = np.linalg.norm(r,1)\n",
    "nr2 = np.linalg.norm(r,2)\n",
    "nrInf = np.linalg.norm(r,np.inf)\n",
    "e = x - xsol\n",
    "ne1 = np.linalg.norm(e,1)\n",
    "ne2 = np.linalg.norm(e,2)\n",
    "neInf = np.linalg.norm(e,np.inf)\n",
    "print(nr1, ne1)\n",
    "print(nr2, ne2)\n",
    "print(nrInf, neInf)\n",
    "\n",
    "\n",
    "# add code here"
   ]
  },
  {
   "cell_type": "code",
   "execution_count": 7,
   "metadata": {},
   "outputs": [
    {
     "name": "stdout",
     "output_type": "stream",
     "text": [
      "1.6986412276764895e-14 730.7913995534402\n",
      "3.3435965876850375e-15 142.30732397696178\n",
      "1.3322676295501878e-15 54.72242674615239\n"
     ]
    }
   ],
   "source": [
    "import numpy as np\n",
    "from scipy.linalg import hilbert\n",
    "\n",
    "n = 50\n",
    "A = hilbert(n)\n",
    "xsol = np.ones([50,1])\n",
    "b = A @ xsol\n",
    "x = np.linalg.solve(A,b)\n",
    "r = A @ x - b\n",
    "nr1 = np.linalg.norm(r,1)\n",
    "nr2 = np.linalg.norm(r,2)\n",
    "nrInf = np.linalg.norm(r,np.inf)\n",
    "e = x - xsol\n",
    "ne1 = np.linalg.norm(e,1)\n",
    "ne2 = np.linalg.norm(e,2)\n",
    "neInf = np.linalg.norm(e,np.inf)\n",
    "print(nr1, ne1)\n",
    "print(nr2, ne2)\n",
    "print(nrInf, neInf)"
   ]
  },
  {
   "cell_type": "markdown",
   "metadata": {},
   "source": [
    "---"
   ]
  },
  {
   "cell_type": "markdown",
   "metadata": {},
   "source": [
    "### Exercise 2: LU factorisation (Standard)\n",
    "\n",
    "In the code cell below:\n",
    "\n",
    "(i) Write a Python function `LU` to implement Algorithm LU from the lecture notes. As stated in the algorithm, your function should take a single input variable `A`, representing a matrix $A \\in \\mathbb{R}^{n\\times n}$, and return two variables, `L` and `U`, representing the matrices $L, U \\in \\mathbb{R}^{n\\times n}$ in the LU factorisation of $A$, such that $A = LU$.\n",
    "\n",
    "(ii) Test your function on the following example:\n",
    "\n",
    "$$\n",
    "A =\n",
    "\\begin{bmatrix}\n",
    "2&1&1 \\\\ 4&3&3 \\\\ 8&7&9\n",
    "\\end{bmatrix}\n",
    "=\n",
    "\\begin{bmatrix}\n",
    "1&0&0 \\\\ 2&1&0 \\\\ 4&3&1\n",
    "\\end{bmatrix}\n",
    "\\begin{bmatrix}\n",
    "2&1&1 \\\\ 0&1&1 \\\\ 0&0&2\n",
    "\\end{bmatrix}\n",
    "= LU.\n",
    "$$"
   ]
  },
  {
   "cell_type": "code",
   "execution_count": 58,
   "metadata": {},
   "outputs": [],
   "source": [
    "import numpy as np\n",
    "\n",
    "A = np.array([[2,1,1],[4,3,3],[8,7,9]])\n",
    "\n",
    "def LU(A):\n",
    "    n = 3\n",
    "    L = np.eye(n,n)\n",
    "    U = A\n",
    "    for k in range(0,n-1):\n",
    "        for j in range(k+1,n):\n",
    "            L[j,k] = U[j, k]/U[k,k]\n",
    "            U[j, k:n-1] = U[j, k:n-1] - L[j,k] * U[k, k:n-1]\n",
    "            \n",
    "\n",
    "    # add code here\n",
    "    \n",
    "    return L, U"
   ]
  },
  {
   "cell_type": "code",
   "execution_count": 35,
   "metadata": {},
   "outputs": [
    {
     "data": {
      "text/plain": [
       "(array([[1., 0., 0.],\n",
       "        [2., 1., 0.],\n",
       "        [4., 3., 1.]]), array([[2, 1, 1],\n",
       "        [0, 1, 3],\n",
       "        [0, 0, 9]]))"
      ]
     },
     "execution_count": 35,
     "metadata": {},
     "output_type": "execute_result"
    }
   ],
   "source": [
    "LU(A)"
   ]
  },
  {
   "cell_type": "code",
   "execution_count": 27,
   "metadata": {},
   "outputs": [
    {
     "name": "stdout",
     "output_type": "stream",
     "text": [
      "2.0\n",
      "[[1. 0. 0.]\n",
      " [2. 1. 0.]\n",
      " [0. 0. 1.]]\n"
     ]
    }
   ],
   "source": [
    "A = np.array([[2,1,1],[4,3,3],[8,7,9]])\n",
    "U = A\n",
    "L = np.eye(3,3)\n",
    "L[1,0] = U[1,0]/U[0,0]\n",
    "print(L[1,0])\n",
    "print(L)"
   ]
  },
  {
   "cell_type": "markdown",
   "metadata": {},
   "source": [
    "---"
   ]
  },
  {
   "cell_type": "markdown",
   "metadata": {},
   "source": [
    "### Back Substitution\n",
    "\n",
    "The function `BS` below solves the equation $Ux=y$, for a non-singular, upper triangular matrix $U\\in \\mathbb{R}^{n\\times n}$ and a vector $y \\in \\mathbb{R}^n$, using Algorithm BS from the lecture notes. "
   ]
  },
  {
   "cell_type": "code",
   "execution_count": 59,
   "metadata": {},
   "outputs": [],
   "source": [
    "import numpy as np\n",
    "\n",
    "def BS(U, y):\n",
    "    n = U.shape[0]\n",
    "    x = np.zeros(n)\n",
    "    \n",
    "    for j in range(n-1, -1, -1):\n",
    "        x[j] = (y[j] - U[j, j+1:] @ x[j+1:]) / U[j, j]\n",
    "    \n",
    "    return x"
   ]
  },
  {
   "cell_type": "markdown",
   "metadata": {},
   "source": [
    "***Comments:*** Note that for `j = n - 1`, the vectors `U[j, j+1:]` and `x[j+1:]` are empty. This corresponds to the fact that the sum in Line 2 of Algorithm BS does not contain any terms for $j=n$."
   ]
  },
  {
   "cell_type": "code",
   "execution_count": 67,
   "metadata": {},
   "outputs": [
    {
     "name": "stdout",
     "output_type": "stream",
     "text": [
      "(3, 7)\n",
      "3\n",
      "[0. 0. 0.]\n"
     ]
    }
   ],
   "source": [
    "A = np.zeros((3, 7))\n",
    "print(A.shape)\n",
    "print(A.shape[0])\n",
    "n = A.shape[0]\n",
    "x = np.zeros(n)\n",
    "print(x)"
   ]
  },
  {
   "cell_type": "markdown",
   "metadata": {},
   "source": [
    "---"
   ]
  },
  {
   "cell_type": "markdown",
   "metadata": {},
   "source": [
    "### Exercise 3: Forward Substitution (Standard)\n",
    "\n",
    "(i) Write down (in pseudocode) the forward substitution algorithm, i.e. write an algorithm that solves the equation $Ly=b$, for a non-singular, lower triangular matrix $L\\in \\mathbb{R}^{n\\times n}$ and a vector $b \\in \\mathbb{R}^n$. (This should be similar to Algorithm BS from the lecture notes.)\n",
    "\n",
    "(ii) What is the computational cost of the forward substitution algorithm?\n",
    "\n",
    "(iii) In the cell below, write a function `FS` to implement your forward substitution algorithm. Your function should take two input arguments, `L` and `b`, and return one output variable, `y`."
   ]
  },
  {
   "cell_type": "code",
   "execution_count": 60,
   "metadata": {},
   "outputs": [],
   "source": [
    "import numpy as np\n",
    "\n",
    "def FS(L,b):\n",
    "    n = L.shape[0]\n",
    "    y = np.zeros(n)\n",
    "    \n",
    "    for i in range(0,n):\n",
    "        y[i] = b[i] - (L[i, :i]@y[:i])\n",
    "        \n",
    "    return y\n",
    "    \n",
    "# add code here"
   ]
  },
  {
   "cell_type": "code",
   "execution_count": 55,
   "metadata": {},
   "outputs": [
    {
     "data": {
      "text/plain": [
       "array([4., 2., 4.])"
      ]
     },
     "execution_count": 55,
     "metadata": {},
     "output_type": "execute_result"
    }
   ],
   "source": [
    "L = np.array([[1,0,0],[2,1,0],[3,4,1]])\n",
    "b = np.array([4,10,24])\n",
    "\n",
    "FS(L,b)"
   ]
  },
  {
   "cell_type": "code",
   "execution_count": 46,
   "metadata": {},
   "outputs": [
    {
     "name": "stdout",
     "output_type": "stream",
     "text": [
      "4.0 2.0 4.0\n"
     ]
    }
   ],
   "source": [
    "L = np.array([[1,0,0],[2,1,0],[3,4,1]])\n",
    "b = np.array([4,10,24])\n",
    "y = np.zeros(3)\n",
    "\n",
    "y[0] = b[0] - (L[0, :0]@y[:0])\n",
    "y[1] = b[1] - (L[1, :1]@y[:1])\n",
    "y[2] = b[2] - (L[2, :2]@y[:2])\n",
    "print(y[0],y[1],y[2])\n"
   ]
  },
  {
   "cell_type": "markdown",
   "metadata": {},
   "source": [
    "---"
   ]
  },
  {
   "cell_type": "markdown",
   "metadata": {},
   "source": [
    "### Exercise 4: Gaussian Elimination (Easy)\n",
    "\n",
    "(i) In the code cell below, write a function `GE` which performs Gaussian elimination, using your functions `LU`, `FS`, and `BS`. The function `GE` should take two input arguments, `A` and `b`, and return one variable `x`, representing the solution $x \\in \\mathbb{R}^n$ of $Ax=b$.\n",
    "\n",
    "*Note: recall that you do not need to copy/paste your previous functions into the cell below -- simply run the cells in which you have written the functions to store them in memory and make them available to* `GE`.\n",
    "\n",
    "(ii) Test your function `GE` with the following values:\n",
    "\n",
    "$$\n",
    "A =\n",
    "\\begin{bmatrix}\n",
    "2&1&1 \\\\ 4&3&3 \\\\ 8&7&9\n",
    "\\end{bmatrix}\\, , \\quad\n",
    "b =\n",
    "\\begin{bmatrix}\n",
    "4 \\\\ 10 \\\\ 24\n",
    "\\end{bmatrix}.\n",
    "$$\n",
    "\n",
    "(iii) Determine the elapsed time and time ratio when using your function `GE` to solve $Ax=b$ using a random matrix $A$ and random vector $b$ of dimension $n = 50 \\times 2^k$ for $k=1, 2, \\dots, 5$. Are the results as you expected?\n",
    "\n",
    "(Please note that on Notable, the computational times might be a bit erratic. For comparing computational times, it is best to run the notebook on a desktop or laptop using e.g. Anaconda.)"
   ]
  },
  {
   "cell_type": "code",
   "execution_count": 82,
   "metadata": {},
   "outputs": [],
   "source": [
    "import numpy as np\n",
    "import time\n",
    "\n",
    "def GE(A,b):\n",
    "    LU(A)\n",
    "    FS(L,b)\n",
    "    BS(U,y)\n",
    "    return x\n",
    "\n",
    "# add code here"
   ]
  },
  {
   "cell_type": "code",
   "execution_count": 74,
   "metadata": {},
   "outputs": [
    {
     "data": {
      "text/plain": [
       "array([0., 0., 0.])"
      ]
     },
     "execution_count": 74,
     "metadata": {},
     "output_type": "execute_result"
    }
   ],
   "source": [
    "A = np.array([[2,1,1],[4,3,3],[8,7,9]])\n",
    "b = ([4,10,24])\n",
    "\n",
    "GE(A,b)"
   ]
  },
  {
   "cell_type": "code",
   "execution_count": 78,
   "metadata": {},
   "outputs": [
    {
     "name": "stdout",
     "output_type": "stream",
     "text": [
      "0.0005400180816650391\n",
      "0.001682281494140625\n",
      "0.004945039749145508\n",
      "0.013046026229858398\n",
      "0.041506052017211914\n"
     ]
    }
   ],
   "source": [
    "import numpy as np\n",
    "import time\n",
    "\n",
    "for k in range(1,6):\n",
    "    n = 50*(2**k)\n",
    "    t = time.time()\n",
    "    A = np.random.rand(n,n)\n",
    "    b = np.random.rand(n)\n",
    "    GE(A,b)\n",
    "    t1 = time.time()\n",
    "    tt = t1-t\n",
    "    print(tt)\n"
   ]
  },
  {
   "cell_type": "markdown",
   "metadata": {},
   "source": [
    "---"
   ]
  },
  {
   "cell_type": "markdown",
   "metadata": {},
   "source": [
    "### Exercise 5: Efficiency of Gaussian Elimination (Easy)\n",
    "\n",
    "In Algorithm LU, consider replacing Line 5 by\n",
    "\n",
    "$$\n",
    "5': \\quad\n",
    "(u_{j1}, \\dots, u_{jn}) = (u_{j1}, \\dots, u_{jn}) - l_{jk}(u_{k1}, \\dots, u_{kn})\n",
    "$$\n",
    "\n",
    "(i) Explain why this change does not affect the computed matrices $L$ and $U$.\n",
    "\n",
    "(ii) Explain why this change does affect the computational cost of Algorithm LU. What is the cost of the modified algorithm?\n",
    "\n",
    "(iii) Modify your code above to implement this modification. Do you see a difference in the computational times to solve a system $Ax=b$, between Algorithm GE and the modified version with the LU factorisation modified as above?"
   ]
  },
  {
   "cell_type": "code",
   "execution_count": 81,
   "metadata": {},
   "outputs": [],
   "source": [
    "import numpy as np\n",
    "\n",
    "def LU(A):\n",
    "    n = 3\n",
    "    L = np.eye(n,n)\n",
    "    U = A\n",
    "    for k in range(0,n-1):\n",
    "        for j in range(k+1,n):\n",
    "            L[j,k] = U[j, k]/U[k,k]\n",
    "            U[j, 0:n-1] = U[j, 0:n-1] - L[j,k] * U[k, 1:n-1]\n",
    "            \n",
    "\n",
    "    # add code here\n",
    "    \n",
    "    return L, U"
   ]
  },
  {
   "cell_type": "code",
   "execution_count": 80,
   "metadata": {},
   "outputs": [
    {
     "data": {
      "text/plain": [
       "(array([[1., 0., 0.],\n",
       "        [2., 1., 0.],\n",
       "        [4., 3., 1.]]), array([[2, 1, 1],\n",
       "        [2, 1, 3],\n",
       "        [1, 0, 9]]))"
      ]
     },
     "execution_count": 80,
     "metadata": {},
     "output_type": "execute_result"
    }
   ],
   "source": [
    "A = np.array([[2,1,1],[4,3,3],[8,7,9]])\n",
    "\n",
    "LU(A)"
   ]
  },
  {
   "cell_type": "code",
   "execution_count": 83,
   "metadata": {},
   "outputs": [
    {
     "data": {
      "text/plain": [
       "array([0., 0., 0.])"
      ]
     },
     "execution_count": 83,
     "metadata": {},
     "output_type": "execute_result"
    }
   ],
   "source": [
    "A = np.array([[2,1,1],[4,3,3],[8,7,9]])\n",
    "b = ([4,10,24])\n",
    "\n",
    "\n",
    "GE(A,b)"
   ]
  },
  {
   "cell_type": "markdown",
   "metadata": {},
   "source": [
    "---"
   ]
  },
  {
   "cell_type": "markdown",
   "metadata": {},
   "source": [
    "### Exercise 6: Block LU factorisation (Difficult)\n",
    "\n",
    "A *divide-and-conquer* method aims to solve a large problem *recursively*. The main problem is subdivided (*branched*) into 2 smaller problems, and these problems are each themselves subdivided -- until we end up with many simpler problems, each solvable by a direct method. The solution to the main problem is finally obtained by combining the solutions of the small problems.\n",
    "\n",
    "For example, the following function computes $x^n, x \\in \\mathbb{R}, n \\in \\mathbb{N}$ relatively efficiently using a divide-and-conquer approach, by further taking advantage of the problem symmetry."
   ]
  },
  {
   "cell_type": "code",
   "execution_count": 11,
   "metadata": {},
   "outputs": [
    {
     "name": "stdout",
     "output_type": "stream",
     "text": [
      "1024\n"
     ]
    }
   ],
   "source": [
    "def power(x, n):\n",
    "    '''\n",
    "    Compute x^n using a divide-and-conquer method.\n",
    "    x^n is written as x^n = x^(2m + k), where k may be 0 or 1,\n",
    "    which allows to only have to compute 1 branch at every depth level.\n",
    "    '''\n",
    "    # Reached the last level\n",
    "    if n == 1:\n",
    "        return x\n",
    "    \n",
    "    # Write x^n = x^(2m + k), where k = 0 or 1\n",
    "    m = n // 2\n",
    "    k = n - 2*m\n",
    "    \n",
    "    # Compute x^m recursively\n",
    "    xm = power(x, m)\n",
    "    \n",
    "    # Separate even and odd cases\n",
    "    if k == 0:\n",
    "        return xm * xm\n",
    "    else:\n",
    "        return x * xm * xm\n",
    "    \n",
    "print(power(2, 10))"
   ]
  },
  {
   "cell_type": "markdown",
   "metadata": {},
   "source": [
    "Let $A \\in \\mathbb{R}^{n\\times n}$, where $n = 2^k$ for some $k \\in \\mathbb{N}$, be a non-singular matrix. The LU factorisation of $A$ can be written in block form as\n",
    "\n",
    "$$\n",
    "\\begin{bmatrix}\n",
    "A_{11} & A_{12} \\\\\n",
    "A_{21} & A_{22}\n",
    "\\end{bmatrix}\n",
    "= A = LU =\n",
    "\\begin{bmatrix}\n",
    "L_{11} & 0 \\\\\n",
    "L_{21} & L_{22}\n",
    "\\end{bmatrix}\n",
    "\\begin{bmatrix}\n",
    "U_{11} & U_{12} \\\\\n",
    "0 & U_{22}\n",
    "\\end{bmatrix},\n",
    "$$\n",
    "\n",
    "where all the blocks are of size $\\frac{n}{2} \\times \\frac{n}{2}$.\n",
    "\n",
    "(i) Devise an algorithm DAC-LU, which uses a divide-and-conquer strategy for LU factorisation.\n",
    "\n",
    "(ii) Write a function `DAC_LU` which computes the LU decomposition of a matrix $A$ using your algorithm.\n",
    "\n",
    "(iii) For $n = 2^k$, with $k=6, \\dots, 11$, generate a random matrix $A\\in \\mathbb{R}^{n\\times n}$, and compute its LU decomposition using both `LU` and `DAC_LU` functions. Report the computation times obtained with both methods. What do you observe?\n",
    "\n",
    "(iv) What is the cost of Algorithm DAC-LU?\n",
    "\n",
    "Some tips to get you started:\n",
    "\n",
    "* You may wish to modify your `FS` and/or `BS` functions in order to solve systems of the form $LY=B$ and/or $UX=Y$, respectively, where $X, Y, B \\in \\mathbb{R}^{n \\times m}$.\n",
    "* $XA=B \\Leftrightarrow (XA)^T = B^T$.\n",
    "* The function [`numpy.allclose`](https://docs.scipy.org/doc/numpy/reference/generated/numpy.allclose.html) may be useful to check that `DAC_LU` is computing the correct matrices."
   ]
  },
  {
   "cell_type": "code",
   "execution_count": null,
   "metadata": {
    "collapsed": true
   },
   "outputs": [],
   "source": [
    "import numpy as np\n",
    "import time\n",
    "\n",
    "# add code here"
   ]
  }
 ],
 "metadata": {
  "kernelspec": {
   "display_name": "Python 3",
   "language": "python",
   "name": "python3"
  },
  "language_info": {
   "codemirror_mode": {
    "name": "ipython",
    "version": 3
   },
   "file_extension": ".py",
   "mimetype": "text/x-python",
   "name": "python",
   "nbconvert_exporter": "python",
   "pygments_lexer": "ipython3",
   "version": "3.7.3"
  }
 },
 "nbformat": 4,
 "nbformat_minor": 2
}
