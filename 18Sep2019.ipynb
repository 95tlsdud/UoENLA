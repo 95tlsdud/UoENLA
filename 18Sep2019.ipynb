{
 "cells": [
  {
   "cell_type": "markdown",
   "metadata": {},
   "source": [
    "Exercise 1\n",
    "\n",
    "In the code cell below, define a variable n with value n = 5. Then:\n",
    "\n",
    "(i) Use the function hilbert from SciPy's scipy.linalg module to define A to be the Hilbert matrix A of dimension n.\n",
    "\n",
    "(ii) Compute A^{-1} using the function np.linalg.inv.\n",
    "\n",
    "(iii) Use the function np.eye to define the identity matrix $I$ of dimension $n$.\n",
    "\n",
    "(iv) Compute $I - A^{-1}A$. Is it zero? How does the error compare to machine epsilon? (The command np.finfo(float).eps returns the value of machine epsilon.)\n",
    "\n",
    "(v) Repeat (i--iv) for $n = 10$ and $n = 15$. Does the increase in the computed values of $I - A^{-1}A$ surprise you?\n",
    "\n",
    "Hilbert matrices are examples of so-called ill-conditioned matrices, which we will learn more about later. Generally speaking, ill-conditioned matrices are notoriously difficult to work with numerically, and even small rounding errors have a large effect on computed results."
   ]
  },
  {
   "cell_type": "code",
   "execution_count": 1,
   "metadata": {},
   "outputs": [
    {
     "name": "stdout",
     "output_type": "stream",
     "text": [
      "[[ 2.500e+01 -3.000e+02  1.050e+03 -1.400e+03  6.300e+02]\n",
      " [-3.000e+02  4.800e+03 -1.890e+04  2.688e+04 -1.260e+04]\n",
      " [ 1.050e+03 -1.890e+04  7.938e+04 -1.176e+05  5.670e+04]\n",
      " [-1.400e+03  2.688e+04 -1.176e+05  1.792e+05 -8.820e+04]\n",
      " [ 6.300e+02 -1.260e+04  5.670e+04 -8.820e+04  4.410e+04]]\n"
     ]
    }
   ],
   "source": [
    "import numpy as np\n",
    "from scipy.linalg import hilbert\n",
    "#hilbert matrix : 5*5\n",
    "A = hilbert(5)\n",
    "print(np.linalg.inv(A))"
   ]
  },
  {
   "cell_type": "code",
   "execution_count": 2,
   "metadata": {},
   "outputs": [
    {
     "data": {
      "text/plain": [
       "array([[1., 0., 0., 0., 0.],\n",
       "       [0., 1., 0., 0., 0.],\n",
       "       [0., 0., 1., 0., 0.],\n",
       "       [0., 0., 0., 1., 0.],\n",
       "       [0., 0., 0., 0., 1.]])"
      ]
     },
     "execution_count": 2,
     "metadata": {},
     "output_type": "execute_result"
    }
   ],
   "source": [
    "np.eye(5)"
   ]
  },
  {
   "cell_type": "code",
   "execution_count": 6,
   "metadata": {},
   "outputs": [
    {
     "name": "stdout",
     "output_type": "stream",
     "text": [
      "[[1. 0. 0. 0. 0.]\n",
      " [0. 1. 0. 0. 0.]\n",
      " [0. 0. 1. 0. 0.]\n",
      " [0. 0. 0. 1. 0.]\n",
      " [0. 0. 0. 0. 1.]]\n"
     ]
    }
   ],
   "source": [
    "I = np.eye(5)\n",
    "print(I)"
   ]
  },
  {
   "cell_type": "code",
   "execution_count": 7,
   "metadata": {},
   "outputs": [
    {
     "name": "stdout",
     "output_type": "stream",
     "text": [
      "[[-2.4000e+01  1.5000e+02 -3.5000e+02  3.5000e+02 -1.2600e+02]\n",
      " [ 1.5000e+02 -1.5990e+03  4.7250e+03 -5.3760e+03  2.1000e+03]\n",
      " [-3.5000e+02  4.7250e+03 -1.5875e+04  1.9600e+04 -8.1000e+03]\n",
      " [ 3.5000e+02 -5.3760e+03  1.9600e+04 -2.5599e+04  1.1025e+04]\n",
      " [-1.2600e+02  2.1000e+03 -8.1000e+03  1.1025e+04 -4.8990e+03]]\n"
     ]
    }
   ],
   "source": [
    "Ainv = np.linalg.inv(A)\n",
    "print(I-Ainv*A)"
   ]
  },
  {
   "cell_type": "code",
   "execution_count": 14,
   "metadata": {},
   "outputs": [
    {
     "name": "stdout",
     "output_type": "stream",
     "text": [
      "[[-1.52807409e+02  5.90369755e+03 -9.88661271e+04  8.98557115e+05\n",
      "  -4.94670227e+06  1.74909713e+07 -4.07963236e+07  6.27500371e+07\n",
      "  -6.16399158e+07  3.57738632e+07 -1.16271361e+07  6.14640887e+06\n",
      "  -7.68627780e+06  4.80832999e+06 -1.07869630e+06]\n",
      " [ 5.90245013e+03 -4.05882679e+05  8.67903268e+06 -9.06964629e+07\n",
      "   5.48769892e+08 -2.08607839e+09  5.17557070e+09 -8.43510247e+09\n",
      "   8.76772477e+09 -5.26990397e+09  1.31275410e+09  3.55126820e+07\n",
      "   2.72179483e+08 -3.31878817e+08  9.28694397e+07]\n",
      " [-9.87933654e+04  8.67457787e+06 -2.13176574e+08  2.44569214e+09\n",
      "  -1.58753609e+10  6.39593351e+10 -1.67182428e+11  2.86441129e+11\n",
      "  -3.12367024e+11  1.92650206e+11 -3.36914578e+10 -3.41709375e+10\n",
      "   2.02494703e+10 -1.23390350e+09 -1.02012096e+09]\n",
      " [ 8.96935941e+05 -9.05593698e+07  2.44341308e+09 -3.00567663e+10\n",
      "   2.06482402e+11 -8.74104875e+11  2.39206314e+12 -4.28316260e+12\n",
      "   4.86417631e+12 -3.04496147e+12  2.84491621e+11  1.07660265e+12\n",
      "  -8.06182729e+11  2.34560884e+11 -2.22623200e+10]\n",
      " [-4.92747855e+06  5.46927648e+08 -1.58351919e+10  2.06190498e+11\n",
      "  -1.48744264e+12  6.58159311e+12 -1.87744294e+13  3.49607157e+13\n",
      "  -4.10474675e+13  2.57094981e+13  2.00624362e+11 -1.42518730e+13\n",
      "   1.13375447e+13 -3.95924912e+12  5.39588345e+11]\n",
      " [ 1.73514445e+07 -2.07191160e+09  6.36211465e+10 -8.70994135e+11\n",
      "   6.57022723e+12 -3.02896055e+13  8.97660870e+13 -1.73017671e+14\n",
      "   2.08260759e+14 -1.27626330e+14 -1.95587937e+13  1.04185708e+14\n",
      "  -8.42993249e+13  3.15871307e+13 -4.76875898e+12]\n",
      " [-4.01285059e+07  5.10590957e+09 -1.65467614e+11  2.37544195e+12\n",
      "  -1.87033366e+13  8.96590448e+13 -2.75185031e+14  5.45825271e+14\n",
      "  -6.65459921e+14  3.82113749e+14  1.55663698e+14 -4.72064069e+14\n",
      "   3.79621834e+14 -1.46920202e+14  2.32339222e+13]\n",
      " [ 6.05503584e+07 -8.20311539e+09  2.80713232e+11 -4.22843378e+12\n",
      "   3.47444329e+13 -1.72879346e+14  5.47038995e+14 -1.10587520e+15\n",
      "   1.33433395e+15 -6.38931019e+14 -6.60475668e+14  1.40692591e+15\n",
      "  -1.10251257e+15  4.31335765e+14 -6.97493835e+13]\n",
      " [-5.65372492e+07  8.22838693e+09 -2.99207609e+11  4.74485414e+12\n",
      "  -4.06850351e+13  2.09210606e+14 -6.75128631e+14  1.35805450e+15\n",
      "  -1.51609021e+15  2.90475645e+14  1.78049088e+15 -2.84100612e+15\n",
      "   2.11853717e+15 -8.21963356e+14  1.33650728e+14]\n",
      " [ 2.73678226e+07 -4.38379957e+09  1.71467259e+11 -2.86784005e+12\n",
      "   2.54308386e+13 -1.31999381e+14  4.13146286e+14 -7.31070293e+14\n",
      "   4.16991883e+14  1.15825092e+15 -3.22910223e+15  3.91901050e+15\n",
      "  -2.68111527e+15  1.00395555e+15 -1.60798067e+14]\n",
      " [-1.84907084e+06  2.87564441e+08 -9.79995069e+09  1.05091884e+11\n",
      "   1.02920471e+11 -1.07844708e+13  9.96778107e+13 -4.82754452e+14\n",
      "   1.46270665e+15 -2.94292571e+15  4.00371942e+15 -3.64744516e+15\n",
      "   2.13401552e+15 -7.25337285e+14  1.08929174e+14]\n",
      " [-1.70289589e+06  8.52906553e+08 -5.26868840e+10  1.19796084e+12\n",
      "  -1.38192367e+13  9.40511120e+13 -4.10381183e+14  1.20443288e+15\n",
      "  -2.43977858e+15  3.44136190e+15 -3.35534413e+15  2.20102133e+15\n",
      "  -9.16797644e+14  2.14964933e+14 -2.08575034e+13]\n",
      " [-3.54962186e+06 -1.55409052e+08  2.96497797e+10 -8.58142665e+11\n",
      "   1.09229229e+13 -7.73277842e+13  3.38244087e+14 -9.63892139e+14\n",
      "   1.82856587e+15 -2.29504317e+15  1.82034864e+15 -7.87345104e+14\n",
      "   7.02845702e+13  8.09915335e+13 -2.49207766e+13]\n",
      " [ 3.52056199e+06 -1.99773581e+08 -4.05067206e+09  2.47095643e+11\n",
      "  -3.77361749e+12  2.89214594e+13 -1.31331896e+14  3.78390302e+14\n",
      "  -7.07441973e+14  8.41995163e+14 -5.77675789e+14  1.33836200e+14\n",
      "   1.02668834e+14 -8.47681134e+13  1.89365820e+13]\n",
      " [-8.99257521e+05  7.45988124e+07 -6.42311972e+08 -2.35234489e+10\n",
      "   5.06175585e+11 -4.33101405e+12  2.06978894e+13 -6.10488180e+13\n",
      "   1.14398524e+14 -1.32523101e+14  8.14812432e+13 -3.90978716e+12\n",
      "  -3.09550046e+13  1.98802983e+13 -4.17231370e+12]]\n"
     ]
    }
   ],
   "source": [
    "n=15\n",
    "A1 = hilbert(n)\n",
    "I1 = np.eye(n)\n",
    "A1inv = np.linalg.inv(A1)\n",
    "print(I1-A1inv*A1)"
   ]
  },
  {
   "cell_type": "code",
   "execution_count": 15,
   "metadata": {},
   "outputs": [
    {
     "name": "stdout",
     "output_type": "stream",
     "text": [
      "[[-9.89965762e+01  2.47485203e+03 -2.63978983e+04  1.50135668e+05\n",
      "  -5.04449304e+05  1.05092470e+06 -1.37262379e+06  1.09380100e+06\n",
      "  -4.86130471e+05  9.23642393e+04]\n",
      " [ 2.47485208e+03 -1.08890478e+05  1.47001386e+06 -9.51251393e+06\n",
      "   3.46807148e+07 -7.64385283e+07  1.04040641e+08 -8.55597686e+07\n",
      "   3.89829774e+07 -7.55712042e+06]\n",
      " [-2.63978996e+04  1.47001391e+06 -2.25791843e+07  1.58540836e+08\n",
      "  -6.11510604e+08  1.40455566e+09 -1.97291943e+09  1.66328519e+09\n",
      "  -7.73218726e+08  1.52402643e+08]\n",
      " [ 1.50135681e+05 -9.51251449e+06  1.58540841e+08 -1.17772561e+09\n",
      "   4.73388395e+09 -1.12210168e+10  1.61582136e+10 -1.38989151e+10\n",
      "   6.56939378e+09 -1.31301224e+09]\n",
      " [-5.04449367e+05  3.46807179e+07 -6.11510639e+08  4.73388408e+09\n",
      "  -1.96368009e+10  4.77173213e+10 -7.01079628e+10  6.13145612e+10\n",
      "  -2.93874113e+10  5.94374289e+09]\n",
      " [ 1.05092487e+06 -7.64385375e+07  1.40455578e+09 -1.12210174e+10\n",
      "   4.77173225e+10 -1.18307298e+11  1.76730511e+11 -1.56733239e+11\n",
      "   7.60175732e+10 -1.55330199e+10]\n",
      " [-1.37262405e+06  1.04040656e+08 -1.97291964e+09  1.61582148e+10\n",
      "  -7.01079661e+10  1.76730515e+11 -2.67710147e+11  2.40253424e+11\n",
      "  -1.17724182e+11  2.42703943e+10]\n",
      " [ 1.09380125e+06 -8.55597836e+07  1.66328541e+09 -1.38989165e+10\n",
      "   6.13145653e+10 -1.56733246e+11  2.40253428e+11 -2.17829928e+11\n",
      "   1.07691863e+11 -2.23765858e+10]\n",
      " [-4.86130596e+05  3.89829852e+07 -7.73218845e+08  6.56939454e+09\n",
      "  -2.93874138e+10  7.60175776e+10 -1.17724187e+11  1.07691865e+11\n",
      "  -5.36596729e+10  1.12271584e+10]\n",
      " [ 9.23642657e+04 -7.55712211e+06  1.52402669e+08 -1.31301242e+09\n",
      "   5.94374349e+09 -1.55330211e+10  2.42703955e+10 -2.23765865e+10\n",
      "   1.12271585e+10 -2.36361545e+09]]\n"
     ]
    }
   ],
   "source": [
    "n=10\n",
    "A1 = hilbert(n)\n",
    "I1 = np.eye(n)\n",
    "A1inv = np.linalg.inv(A1)\n",
    "print(I1-A1inv*A1)"
   ]
  },
  {
   "cell_type": "markdown",
   "metadata": {},
   "source": [
    "In the code cell below, define a variable n with value $n = 50$. Then:\n",
    "\n",
    "(i) Use the function np.random.rand to define A to be a random matrix $A$ of dimension $n$.\n",
    "\n",
    "(ii) Using the function time.time, find the time required to compute $A^{-1}$ using the function np.linalg.inv.\n",
    "\n",
    "(iii) Use the method .format to format a string which reports the dimension of $A$ and the time required to compute $A^{-1}$, and print out the string."
   ]
  },
  {
   "cell_type": "code",
   "execution_count": 24,
   "metadata": {},
   "outputs": [
    {
     "name": "stdout",
     "output_type": "stream",
     "text": [
      "[[0.49205974 0.54420913 0.19637647 ... 0.45777551 0.29988975 0.01672294]\n",
      " [0.69308262 0.43739258 0.36032255 ... 0.12372269 0.99680149 0.74836353]\n",
      " [0.01439581 0.68327219 0.51383611 ... 0.4733032  0.94994235 0.93532424]\n",
      " ...\n",
      " [0.25667    0.03991112 0.49215191 ... 0.00270784 0.23321774 0.36848709]\n",
      " [0.56833882 0.00247763 0.98176436 ... 0.33498948 0.53599569 0.09738784]\n",
      " [0.04841666 0.92514274 0.00876988 ... 0.36303443 0.28316912 0.35625572]]\n"
     ]
    }
   ],
   "source": [
    "import numpy as np\n",
    "import time\n",
    "\n",
    "n=50\n",
    "A = np.random.rand(n,n)\n",
    "print(A)"
   ]
  },
  {
   "cell_type": "code",
   "execution_count": 25,
   "metadata": {},
   "outputs": [
    {
     "name": "stdout",
     "output_type": "stream",
     "text": [
      "[[ 0.99604478  1.28933594 -2.04298306 ... -0.54081889 -1.91124683\n",
      "   0.0419743 ]\n",
      " [-1.20041791 -1.64937495  1.66676817 ...  0.08737393  2.46712394\n",
      "  -0.7209625 ]\n",
      " [-1.02117887 -2.16715582  3.60664252 ...  0.14831626  4.15525473\n",
      "   0.05535053]\n",
      " ...\n",
      " [ 0.20645966  0.91314328 -1.28142032 ... -0.58032535 -1.24478992\n",
      "  -0.34740895]\n",
      " [-0.94666581 -0.38555519  0.61866504 ... -0.23728836  1.65018316\n",
      "  -0.24155452]\n",
      " [-0.58034544  0.22222011 -0.2004097  ... -0.87621963 -0.65515407\n",
      "  -0.6152499 ]]\n"
     ]
    }
   ],
   "source": [
    "Ainv = np.linalg.inv(A)\n",
    "print(Ainv)"
   ]
  },
  {
   "cell_type": "code",
   "execution_count": 27,
   "metadata": {},
   "outputs": [
    {
     "name": "stdout",
     "output_type": "stream",
     "text": [
      "1568796247.0316641\n"
     ]
    }
   ],
   "source": [
    "time = time.time()\n",
    "print(time)"
   ]
  },
  {
   "cell_type": "code",
   "execution_count": 28,
   "metadata": {},
   "outputs": [
    {
     "name": "stdout",
     "output_type": "stream",
     "text": [
      "0.001779317855834961\n"
     ]
    }
   ],
   "source": [
    "import numpy as np\n",
    "import time\n",
    "\n",
    "n=50\n",
    "A = np.random.rand(n,n)\n",
    "t1 = time.time()\n",
    "Ainv = np.linalg.inv(A)\n",
    "t2 = time.time()\n",
    "t=t2-t1\n",
    "print(t)"
   ]
  },
  {
   "cell_type": "code",
   "execution_count": 29,
   "metadata": {},
   "outputs": [
    {
     "name": "stdout",
     "output_type": "stream",
     "text": [
      "The value of n is 3, and the value of k is 5.\n"
     ]
    }
   ],
   "source": [
    "n = 3\n",
    "k = 5\n",
    "s = 'The value of n is {}, and the value of k is {}.'.format(n, k)\n",
    "print(s)"
   ]
  },
  {
   "cell_type": "markdown",
   "metadata": {},
   "source": [
    "Use the method .format to format a string which reports the dimension of $A$ and the time required to compute $A^{-1}$, and print out the string."
   ]
  },
  {
   "cell_type": "code",
   "execution_count": 30,
   "metadata": {},
   "outputs": [
    {
     "name": "stdout",
     "output_type": "stream",
     "text": [
      "the dimension of A is 50 and the time required to compute inverse A is 0.001779317855834961.\n"
     ]
    }
   ],
   "source": [
    "n = 50\n",
    "s = 'the dimension of A is {} and the time required to compute inverse A is {}.'.format(n, t)\n",
    "print(s)"
   ]
  },
  {
   "cell_type": "markdown",
   "metadata": {},
   "source": [
    "In the code cell below, load the matrix $A$ from the file bcsstk08.npy using the function np.load, and store it in a variable A. Then:\n",
    "\n",
    "(i) Identify the dimension $n$ of the matrix $A$.\n",
    "\n",
    "(ii) Create a variable x to represent a vector $x \\in \\mathbb{R}^n$, all of whose entries are $1$.\n",
    "\n",
    "(iii) Compute the vector $b = Ax$ with the command b = A @ x.\n",
    "\n",
    "(iv) Find and report the time required to solve $Ax=b$:\n",
    "\n",
    "by computing $A^{-1}$ as Ainv and then forming Ainv @ b, and\n",
    "by using the function np.linalg.solve.\n",
    "(v) How do the times for the two approaches compare?"
   ]
  },
  {
   "cell_type": "code",
   "execution_count": 42,
   "metadata": {},
   "outputs": [
    {
     "name": "stdout",
     "output_type": "stream",
     "text": [
      "[[1.48435200e+06 0.00000000e+00 0.00000000e+00 ... 0.00000000e+00\n",
      "  0.00000000e+00 0.00000000e+00]\n",
      " [0.00000000e+00 8.06553179e+08 0.00000000e+00 ... 0.00000000e+00\n",
      "  0.00000000e+00 0.00000000e+00]\n",
      " [0.00000000e+00 0.00000000e+00 2.90420605e+09 ... 0.00000000e+00\n",
      "  0.00000000e+00 0.00000000e+00]\n",
      " ...\n",
      " [0.00000000e+00 0.00000000e+00 0.00000000e+00 ... 6.07848000e+04\n",
      "  0.00000000e+00 0.00000000e+00]\n",
      " [0.00000000e+00 0.00000000e+00 0.00000000e+00 ... 0.00000000e+00\n",
      "  2.58256643e+05 0.00000000e+00]\n",
      " [0.00000000e+00 0.00000000e+00 0.00000000e+00 ... 0.00000000e+00\n",
      "  0.00000000e+00 2.58256643e+05]]\n"
     ]
    }
   ],
   "source": [
    "import numpy as np\n",
    "import time\n",
    "\n",
    "A = np.load('bcsstk08.npy')\n",
    "print(A)"
   ]
  },
  {
   "cell_type": "code",
   "execution_count": 49,
   "metadata": {},
   "outputs": [
    {
     "name": "stdout",
     "output_type": "stream",
     "text": [
      "(1074, 1074)\n",
      "1074\n"
     ]
    }
   ],
   "source": [
    "n = np.shape(A)\n",
    "a = A.shape[0]\n",
    "print(n)\n",
    "print(a)"
   ]
  },
  {
   "cell_type": "code",
   "execution_count": 51,
   "metadata": {},
   "outputs": [
    {
     "name": "stdout",
     "output_type": "stream",
     "text": [
      "[1. 1. 1. ... 1. 1. 1.]\n"
     ]
    }
   ],
   "source": [
    "x = np.ones(a)\n",
    "print(x)"
   ]
  },
  {
   "cell_type": "code",
   "execution_count": 52,
   "metadata": {},
   "outputs": [
    {
     "name": "stdout",
     "output_type": "stream",
     "text": [
      "[[1.48435200e+06 0.00000000e+00 0.00000000e+00 ... 0.00000000e+00\n",
      "  0.00000000e+00 0.00000000e+00]\n",
      " [0.00000000e+00 8.06553179e+08 0.00000000e+00 ... 0.00000000e+00\n",
      "  0.00000000e+00 0.00000000e+00]\n",
      " [0.00000000e+00 0.00000000e+00 2.90420605e+09 ... 0.00000000e+00\n",
      "  0.00000000e+00 0.00000000e+00]\n",
      " ...\n",
      " [0.00000000e+00 0.00000000e+00 0.00000000e+00 ... 6.07848000e+04\n",
      "  0.00000000e+00 0.00000000e+00]\n",
      " [0.00000000e+00 0.00000000e+00 0.00000000e+00 ... 0.00000000e+00\n",
      "  2.58256643e+05 0.00000000e+00]\n",
      " [0.00000000e+00 0.00000000e+00 0.00000000e+00 ... 0.00000000e+00\n",
      "  0.00000000e+00 2.58256643e+05]]\n"
     ]
    }
   ],
   "source": [
    "b = A*x\n",
    "print(b)"
   ]
  },
  {
   "cell_type": "markdown",
   "metadata": {},
   "source": [
    "Ainv = np.linalg.inv(A)\n",
    "x = np.linalg.solve(Ainv,b)\n",
    "print(x)"
   ]
  },
  {
   "cell_type": "code",
   "execution_count": 62,
   "metadata": {},
   "outputs": [
    {
     "name": "stdout",
     "output_type": "stream",
     "text": [
      "0.14020609855651855\n",
      "0.004969120025634766\n"
     ]
    }
   ],
   "source": [
    "t1 = time.time()\n",
    "Ainv = np.linalg.inv(A)\n",
    "x = np.linalg.solve(Ainv,b)\n",
    "t2 = time.time()\n",
    "b = A*x\n",
    "t3= time.time()\n",
    "t = t2-t1\n",
    "tt = t3-t2\n",
    "print(t)\n",
    "print(tt)"
   ]
  },
  {
   "cell_type": "markdown",
   "metadata": {},
   "source": [
    "In the cell below:\n",
    "\n",
    "(i) Write a for loop to repeat (i--iii) from Exercise 2, for $n=50 \\times 2^k$ with $k=1, 2, \\dots, 8$.\n",
    "\n",
    "(ii) Determine the ratio between the computation time for $k$ and the computation time for $k-1$, for $k=2, \\dots, 8$. How does it behave?\n",
    "\n",
    "\n",
    "In the code cell below, define a variable n with value $n = 50$. Then:\n",
    "\n",
    "(i) Use the function np.random.rand to define A to be a random matrix $A$ of dimension $n$.\n",
    "\n",
    "(ii) Using the function time.time, find the time required to compute $A^{-1}$ using the function np.linalg.inv.\n",
    "\n",
    "(iii) Use the method .format to format a string which reports the dimension of $A$ and the time required to compute $A^{-1}$, and print out the string."
   ]
  },
  {
   "cell_type": "code",
   "execution_count": 64,
   "metadata": {},
   "outputs": [
    {
     "name": "stdout",
     "output_type": "stream",
     "text": [
      "the dimension of A is 100 and the time required to compute inverse A is 733.5915951728821.\n",
      "the dimension of A is 200 and the time required to compute inverse A is 733.5958020687103.\n",
      "the dimension of A is 400 and the time required to compute inverse A is 733.611120223999.\n",
      "the dimension of A is 800 and the time required to compute inverse A is 733.6544771194458.\n",
      "the dimension of A is 1600 and the time required to compute inverse A is 733.9167020320892.\n",
      "the dimension of A is 3200 and the time required to compute inverse A is 735.80597615242.\n",
      "the dimension of A is 6400 and the time required to compute inverse A is 747.0929222106934.\n"
     ]
    }
   ],
   "source": [
    "import numpy as np\n",
    "import time\n",
    "\n",
    "for i in range(1,8):\n",
    "    n = 50*2**i\n",
    "    A = np.random.rand(n,n)\n",
    "    t1 = time.time()\n",
    "    Ainv = np.linalg.inv(A)\n",
    "    t2 = time.time()\n",
    "    t = t2-t1\n",
    "    s = 'the dimension of A is {} and the time required to compute inverse A is {}.'.format(n, t)\n",
    "    print(s)"
   ]
  },
  {
   "cell_type": "code",
   "execution_count": 65,
   "metadata": {},
   "outputs": [
    {
     "name": "stdout",
     "output_type": "stream",
     "text": [
      "151.0\n",
      "2.5385111182726394\n",
      "2.8650273224043716\n",
      "4.345290637618556\n",
      "5.6770595287774315\n",
      "13.05027145843066\n",
      "18.770656777396507\n"
     ]
    }
   ],
   "source": [
    "import numpy as np\n",
    "import time\n",
    "\n",
    "for i in range(1,8):\n",
    "    n = 50*2**i\n",
    "    n2 = 50*2**i-1\n",
    "    A = np.random.rand(n,n)\n",
    "    t1 = time.time()\n",
    "    Ainv = np.linalg.inv(A)\n",
    "    t2 = time.time()\n",
    "    t = t2-t1\n",
    "    B = np.random.rand(n2,n2)\n",
    "    t3 = time.time()\n",
    "    tt = t3-t2\n",
    "    ratio = t/tt\n",
    "    print(ratio)\n",
    "    "
   ]
  }
 ],
 "metadata": {
  "kernelspec": {
   "display_name": "Python 3",
   "language": "python",
   "name": "python3"
  },
  "language_info": {
   "codemirror_mode": {
    "name": "ipython",
    "version": 3
   },
   "file_extension": ".py",
   "mimetype": "text/x-python",
   "name": "python",
   "nbconvert_exporter": "python",
   "pygments_lexer": "ipython3",
   "version": "3.7.3"
  }
 },
 "nbformat": 4,
 "nbformat_minor": 2
}
